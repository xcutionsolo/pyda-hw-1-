{
 "cells": [
  {
   "cell_type": "markdown",
   "metadata": {},
   "source": [
    "**Задание 1**. Даны 2 строки: *long_phrase* и *short_phrase*. \n",
    "Напишите код, который проверяет действительно ли длинная фраза *long_phrase* длиннее короткой *short_phrase*. И выводит *True* или *False* в зависимости от результата сравнения."
   ]
  },
  {
   "cell_type": "code",
   "execution_count": 3,
   "metadata": {},
   "outputs": [],
   "source": [
    "long_phrase = 'Насколько проще было бы писать программы, если бы не заказчики'\n",
    "short_phrase = '640Кб должно хватить для любых задач. Билл Гейтс (по легенде)'"
   ]
  },
  {
   "cell_type": "code",
   "execution_count": 175,
   "metadata": {},
   "outputs": [
    {
     "data": {
      "text/plain": [
       "True"
      ]
     },
     "execution_count": 175,
     "metadata": {},
     "output_type": "execute_result"
    }
   ],
   "source": [
    "len(long_phrase) > len(short_phrase)"
   ]
  },
  {
   "cell_type": "markdown",
   "metadata": {},
   "source": [
    "**Задание 2**. Дано значение объема файла в байтах. Напишите перевод этого значения в мегабайты в формате: \"*Объем файла равен 213.68Mb*\""
   ]
  },
  {
   "cell_type": "code",
   "execution_count": 176,
   "metadata": {},
   "outputs": [
    {
     "name": "stdout",
     "output_type": "stream",
     "text": [
      "Введите объем файла в байтах 213680000\n",
      "Объем файла равен  213.68 Mb\n"
     ]
    }
   ],
   "source": [
    "a = int(input('Введите объем файла в байтах '))\n",
    "print(\"Объем файла равен \", round((a/1000000), 2),\"Mb\")\n"
   ]
  },
  {
   "cell_type": "markdown",
   "metadata": {},
   "source": [
    "**Задание 3**. Разработать приложение для определения знака зодиака по дате рождения. Пример:\n",
    "\n",
    "Введите месяц: март\n",
    "\n",
    "Введите число: 6\n",
    "\n",
    "Вывод:\n",
    "Рыбы"
   ]
  },
  {
   "cell_type": "code",
   "execution_count": 177,
   "metadata": {},
   "outputs": [
    {
     "name": "stdout",
     "output_type": "stream",
     "text": [
      "Введите месяц октябрь\n",
      "ВВедите дату 30\n",
      "Скорпион\n"
     ]
    }
   ],
   "source": [
    "#lower чтобы не учитывался регистр\n",
    "month = input('Введите месяц ')\n",
    "day = int(input('ВВедите дату '))\n",
    "if (month == 'март' and 21 <= day <= 31) or (month == 'апрель' and 1 <= day <= 20):\n",
    "    print('Овен')\n",
    "elif (month == 'апрель' and 21 <= day <= 30) or (month == 'май' and 1 <= day <= 20):\n",
    "    print('Телец')\n",
    "elif (month == 'май' and 21 <= day <= 31) or (month == 'июнь' and 1 <= day <= 21):\n",
    "    print('Близнецы')\n",
    "elif (month == 'июнь' and 22 <= day <= 30) or (month == 'июль' and 1 <= day <= 22):\n",
    "    print('Рак')\n",
    "elif (month == 'июль' and 23 <= day <= 31) or (month == 'август' and 1 <= day <= 23):\n",
    "    print('Лев')\n",
    "elif (month == 'август' and 24 <= day <= 31) or (month == 'сентябрь' and 1 <= day <= 23):\n",
    "    print('Дева')\n",
    "elif (month == 'сентябрь' and 24 <= day <= 30) or (month == 'октябрь' and 1 <= day <= 23):\n",
    "    print('Весы')\n",
    "elif (month == 'октябрь' and 24 <= day <= 31) or (month == 'ноябрь' and 1 <= day <= 22):\n",
    "    print('Скорпион')\n",
    "elif (month == 'ноябрь' and 23 <= day <= 30) or (month == 'декабрь' and 1 <= day <= 21):\n",
    "    print('Стрелец')\n",
    "elif (month == 'декабрь' and 22 <= day <= 31) or (month == 'январь' and 1 <= day <= 20):\n",
    "    print('Козерог')\n",
    "elif (month == 'январь' and 21 <= day <= 31) or (month == 'февраль' and 1 <= day <= 20):\n",
    "    print('Водолей')\n",
    "elif (month == 'февраль' and 21 <= day <= 29) or (month == 'март' and 1 <= day <= 20):\n",
    "    print('Рыбы')"
   ]
  },
  {
   "cell_type": "markdown",
   "metadata": {},
   "source": [
    "**Задание 4**. Нужно разработать приложение для финансового планирования.\n",
    "Приложение учитывает сколько уходит на ипотеку, \"на жизнь\" и сколько нужно отложить на пенсию.\n",
    "Пользователь вводит:\n",
    "- заработанную плату в месяц.\n",
    "- сколько процентов от ЗП уходит на ипотеку.\n",
    "- сколько процентов от ЗП уходит \"на жизнь\".\n",
    "- сколько раз приходит премия в год.\n",
    "\n",
    "Остальная часть заработанной платы откладывается на пенсию.\n",
    "\n",
    "Также пользователю приходит премия в размере зарплаты, от которой половина уходит на отпуск, а вторая половина откладывается.\n",
    "\n",
    "Программа должна учитывать сколько премий было в год.\n",
    "\n",
    "Нужно вывести сколько денег тратит пользователь на ипотеку и сколько он накопит за год.\n",
    "\n",
    "Пример:\n",
    "\n",
    "Введите заработанную плату в месяц: 100000\n",
    "\n",
    "Введите сколько процентов уходит на ипотеку: 30\n",
    "\n",
    "Введите сколько процентов уходит на жизнь: 50\n",
    "\n",
    "Введите количество премий за год: 2\n",
    "\n",
    "Вывод:\n",
    "На ипотеку было потрачено: 360000 рублей\n",
    "Было накоплено: 340000 рублей"
   ]
  },
  {
   "cell_type": "code",
   "execution_count": 55,
   "metadata": {},
   "outputs": [
    {
     "name": "stdout",
     "output_type": "stream",
     "text": [
      "Введите з/п 100000\n",
      "Введите % з/п, уходящий на ипотеку 30\n",
      "Введите % з/п, приходящийся на потребление50\n",
      "Введите количество премий за год 2\n",
      "На ипотеку было потрачено:  360000 рублей\n",
      "Было накоплено:  340000 рублей\n"
     ]
    }
   ],
   "source": [
    "salary = int(input('Введите з/п '))\n",
    "mortgage = int(input('Введите % з/п, уходящий на ипотеку '))\n",
    "consumption = int(input('Введите % з/п, приходящийся на потребление'))\n",
    "bonus = int(input('Введите количество премий за год '))\n",
    "print('На ипотеку было потрачено: ', round(salary * mortgage / 100 * 12), 'рублей')\n",
    "print('Было накоплено: ', round(12 * salary * (1 - mortgage / 100 - consumption / 100) + salary * bonus / 2), 'рублей')"
   ]
  },
  {
   "cell_type": "markdown",
   "metadata": {},
   "source": [
    "Задание 1\n",
    "https://ru.wikipedia.org/wiki/Fizz_buzz\n",
    "Начинающий произносит число “1”, и каждый следующий игрок прибавляет к предыдущему значению единицу. Когда число делится на три оно заменяется на fizz, если число делится на пять, то произносится buzz. Числа, делящиеся на три и пять одновременно заменяются на fizz buzz. Сделавший ошибку игрок исключается из игры. Напишите код, выводящий на экран первые n элементов этой игры (естественно, корректные).\n",
    "\n",
    "a = input(\n",
    "\n"
   ]
  },
  {
   "cell_type": "code",
   "execution_count": 183,
   "metadata": {},
   "outputs": [
    {
     "name": "stdout",
     "output_type": "stream",
     "text": [
      "количество32\n",
      "1\n",
      "2\n",
      "fizz\n",
      "4\n",
      "buzz\n",
      "fizz\n",
      "7\n",
      "8\n",
      "fizz\n",
      "buzz\n",
      "11\n",
      "fizz\n",
      "13\n",
      "14\n",
      "fizz buzz\n",
      "16\n",
      "17\n",
      "fizz\n",
      "19\n",
      "buzz\n",
      "fizz\n",
      "22\n",
      "23\n",
      "fizz\n",
      "buzz\n",
      "26\n",
      "fizz\n",
      "28\n",
      "29\n",
      "fizz buzz\n",
      "31\n",
      "32\n"
     ]
    }
   ],
   "source": [
    "n = int(input('количество'))\n",
    "a = 0\n",
    "while a < n:\n",
    "    a = a + 1\n",
    "    if a%3==0 and a%5==0:\n",
    "        print('fizz buzz')\n",
    "    elif a%3==0:\n",
    "        print('fizz')\n",
    "    elif a%5==0:\n",
    "        print('buzz')\n",
    "    else: print(a)\n",
    "        \n",
    "  "
   ]
  },
  {
   "cell_type": "markdown",
   "metadata": {},
   "source": [
    "Задание 3\n",
    "Дано слово из латинских букв. Напишите скрипт, который выводит на экран букву из середины слова (если число букв нечетное). Если букв четное число, то на экран выводятся две буквы из середины.\n",
    "\n",
    "Для ‘test’ - 'es’\n",
    "Для ‘testing’ - ‘t’"
   ]
  },
  {
   "cell_type": "code",
   "execution_count": 172,
   "metadata": {},
   "outputs": [
    {
     "name": "stdout",
     "output_type": "stream",
     "text": [
      "Введите слово testing\n",
      "t\n"
     ]
    }
   ],
   "source": [
    "word = input('Введите слово ')\n",
    "l = len(word)\n",
    "if l % 2 == 0:\n",
    "    word = word[int(l/2-1):int(l/2+1)]\n",
    "    print(word)\n",
    "else:\n",
    "    word = word[int(l/2)]\n",
    "    print(word)"
   ]
  }
 ],
 "metadata": {
  "kernelspec": {
   "display_name": "Python 3",
   "language": "python",
   "name": "python3"
  },
  "language_info": {
   "codemirror_mode": {
    "name": "ipython",
    "version": 3
   },
   "file_extension": ".py",
   "mimetype": "text/x-python",
   "name": "python",
   "nbconvert_exporter": "python",
   "pygments_lexer": "ipython3",
   "version": "3.7.4"
  }
 },
 "nbformat": 4,
 "nbformat_minor": 2
}
